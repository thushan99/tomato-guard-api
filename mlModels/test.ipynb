{
 "cells": [
  {
   "cell_type": "code",
   "execution_count": 5,
   "id": "15cb7170-35bc-49a7-8047-85939267ce1b",
   "metadata": {},
   "outputs": [
    {
     "name": "stdout",
     "output_type": "stream",
     "text": [
      "pandas version: 2.2.3\n",
      "numpy version: 2.2.2\n",
      "joblib version: 1.4.2\n"
     ]
    }
   ],
   "source": [
    "import pandas as pd\n",
    "import numpy as np\n",
    "import joblib\n",
    "\n",
    "print(\"pandas version:\", pd.__version__)\n",
    "print(\"numpy version:\", np.__version__)\n",
    "print(\"joblib version:\", joblib.__version__)\n"
   ]
  },
  {
   "cell_type": "code",
   "execution_count": 1,
   "id": "02a22931-49c3-4cc8-9221-7307416df2ee",
   "metadata": {},
   "outputs": [],
   "source": [
    "# Import necessary libraries\n",
    "import pandas as pd\n",
    "import numpy as np\n",
    "import joblib"
   ]
  },
  {
   "cell_type": "code",
   "execution_count": 2,
   "id": "c94ef2a1-288f-45bf-bd55-8cb63267f2a2",
   "metadata": {},
   "outputs": [],
   "source": [
    "# Define a sample input (single data point)\n",
    "sample_data = pd.DataFrame({\n",
    "    \"Weed Name\": [\"Dandelion\"], \n",
    "    \"Soil Type\": [\"Clay\"], \n",
    "    \"Growth Stage\": [\"Mature\"],\n",
    "    \"Temp (°C)\": [25], \n",
    "    \"Humidity (%)\": [60], \n",
    "    \"Wind Speed (km/h)\": [10], \n",
    "    \"Rainfall (mm)\": [5]\n",
    "})"
   ]
  },
  {
   "cell_type": "code",
   "execution_count": 3,
   "id": "1f16a944-79f3-445a-b0d2-87d3df907aca",
   "metadata": {},
   "outputs": [],
   "source": [
    "# Load the trained models\n",
    "reg_pipeline = joblib.load(\"application_rate_model.pkl\")\n",
    "clf_pipeline = joblib.load(\"herbicide_model.pkl\")"
   ]
  },
  {
   "cell_type": "code",
   "execution_count": 4,
   "id": "928cd424-d8a6-4385-8a18-a3d2f61532f7",
   "metadata": {},
   "outputs": [
    {
     "name": "stdout",
     "output_type": "stream",
     "text": [
      "\n",
      "Predicted Application Rate (L/ha): 1.9213769926141366\n",
      "Predicted Herbicide Name: Trifluralin\n"
     ]
    }
   ],
   "source": [
    "\n",
    "# Make predictions using the trained models\n",
    "reg_prediction = reg_pipeline.predict(sample_data)\n",
    "clf_prediction = clf_pipeline.predict(sample_data)\n",
    "\n",
    "# Display the predictions\n",
    "print(\"\\nPredicted Application Rate (L/ha):\", reg_prediction[0])\n",
    "print(\"Predicted Herbicide Name:\", clf_prediction[0])"
   ]
  },
  {
   "cell_type": "code",
   "execution_count": null,
   "id": "96b41683-cd8a-4372-b24f-82028073a5a1",
   "metadata": {},
   "outputs": [],
   "source": []
  }
 ],
 "metadata": {
  "kernelspec": {
   "display_name": "Python 3 (ipykernel)",
   "language": "python",
   "name": "python3"
  },
  "language_info": {
   "codemirror_mode": {
    "name": "ipython",
    "version": 3
   },
   "file_extension": ".py",
   "mimetype": "text/x-python",
   "name": "python",
   "nbconvert_exporter": "python",
   "pygments_lexer": "ipython3",
   "version": "3.12.9"
  }
 },
 "nbformat": 4,
 "nbformat_minor": 5
}
